{
  "cells": [
    {
      "cell_type": "code",
      "execution_count": 1,
      "id": "4312b3ac-a70b-443c-98f9-f7f5d7c1bd33",
      "metadata": {
        "id": "4312b3ac-a70b-443c-98f9-f7f5d7c1bd33",
        "colab": {
          "base_uri": "https://localhost:8080/"
        },
        "outputId": "5ca9212e-db54-48e3-d6d8-91e4997e5a46"
      },
      "outputs": [
        {
          "output_type": "stream",
          "name": "stdout",
          "text": [
            "\u001b[2K     \u001b[90m━━━━━━━━━━━━━━━━━━━━━━━━━━━━━━━━━━━━━━━━\u001b[0m \u001b[32m75.0/75.0 kB\u001b[0m \u001b[31m1.6 MB/s\u001b[0m eta \u001b[36m0:00:00\u001b[0m\n",
            "\u001b[2K     \u001b[90m━━━━━━━━━━━━━━━━━━━━━━━━━━━━━━━━━━━━━━━━\u001b[0m \u001b[32m141.1/141.1 kB\u001b[0m \u001b[31m2.7 MB/s\u001b[0m eta \u001b[36m0:00:00\u001b[0m\n",
            "\u001b[2K     \u001b[90m━━━━━━━━━━━━━━━━━━━━━━━━━━━━━━━━━━━━━━━━\u001b[0m \u001b[32m77.9/77.9 kB\u001b[0m \u001b[31m4.1 MB/s\u001b[0m eta \u001b[36m0:00:00\u001b[0m\n",
            "\u001b[2K     \u001b[90m━━━━━━━━━━━━━━━━━━━━━━━━━━━━━━━━━━━━━━━━\u001b[0m \u001b[32m58.3/58.3 kB\u001b[0m \u001b[31m2.2 MB/s\u001b[0m eta \u001b[36m0:00:00\u001b[0m\n",
            "\u001b[?25h"
          ]
        }
      ],
      "source": [
        "!pip install mistralai==0.0.12 seaborn numpy scikit-learn --quiet"
      ]
    },
    {
      "cell_type": "code",
      "execution_count": 2,
      "id": "7c28ce18-065d-4379-8bbb-214479238c77",
      "metadata": {
        "id": "7c28ce18-065d-4379-8bbb-214479238c77"
      },
      "outputs": [],
      "source": [
        "from mistralai.client import MistralClient\n",
        "\n",
        "client = MistralClient(api_key=\"rrXMIjg4zKH2qCYv7jRPVVgYYuMMbfnt\")\n",
        "\n",
        "embeddings_batch_response = client.embeddings(\n",
        "    model=\"mistral-embed\",\n",
        "    input=[\"Embed this sentence.\", \"As well as this one.\"],\n",
        "  )"
      ]
    },
    {
      "cell_type": "code",
      "execution_count": 3,
      "id": "709bfa0d-664c-4902-8de5-f96a22232ca7",
      "metadata": {
        "id": "709bfa0d-664c-4902-8de5-f96a22232ca7",
        "outputId": "d8daca02-dba6-4a60-f51a-5a5703ee0a99",
        "colab": {
          "base_uri": "https://localhost:8080/"
        }
      },
      "outputs": [
        {
          "output_type": "execute_result",
          "data": {
            "text/plain": [
              "1024"
            ]
          },
          "metadata": {},
          "execution_count": 3
        }
      ],
      "source": [
        "len(embeddings_batch_response.data[0].embedding)"
      ]
    },
    {
      "cell_type": "code",
      "execution_count": 4,
      "id": "c95c2bdf-f08a-4d36-825a-0f78ce82ec7d",
      "metadata": {
        "id": "c95c2bdf-f08a-4d36-825a-0f78ce82ec7d"
      },
      "outputs": [],
      "source": [
        "from sklearn.metrics.pairwise import euclidean_distances\n",
        "\n",
        "def get_text_embedding(input):\n",
        "    embeddings_batch_response = client.embeddings(\n",
        "          model=\"mistral-embed\",\n",
        "          input=input\n",
        "      )\n",
        "    return embeddings_batch_response.data[0].embedding"
      ]
    },
    {
      "cell_type": "code",
      "execution_count": 5,
      "id": "fd16565e-272b-46b2-884d-3c61e91cbe52",
      "metadata": {
        "id": "fd16565e-272b-46b2-884d-3c61e91cbe52"
      },
      "outputs": [],
      "source": [
        "sentences = [\n",
        "    \"A home without a cat — and a well-fed, well-petted and properly revered cat — may be a perfect home, perhaps, but how can it prove title?\",\n",
        "    \"I think books are like people, in the sense that they’ll turn up in your life when you most need them\"\n",
        "]\n",
        "embeddings = [get_text_embedding(t) for t in sentences]"
      ]
    },
    {
      "cell_type": "code",
      "execution_count": 6,
      "id": "b1587f75-3f36-46aa-86d8-7c2fe400be5e",
      "metadata": {
        "lines_to_next_cell": 2,
        "id": "b1587f75-3f36-46aa-86d8-7c2fe400be5e"
      },
      "outputs": [],
      "source": [
        "reference_sentence = \"Books are mirrors: You only see in them what you already have inside you\"\n",
        "reference_embedding = get_text_embedding(reference_sentence)"
      ]
    },
    {
      "cell_type": "code",
      "execution_count": 7,
      "id": "8d7b2d20-a920-4171-95de-3f0812803321",
      "metadata": {
        "id": "8d7b2d20-a920-4171-95de-3f0812803321",
        "outputId": "432b3ab3-ad18-4864-f473-c5b708079785",
        "colab": {
          "base_uri": "https://localhost:8080/"
        }
      },
      "outputs": [
        {
          "output_type": "stream",
          "name": "stdout",
          "text": [
            "A home without a cat — and a well-fed, well-petted and properly revered cat — may be a perfect home, perhaps, but how can it prove title? [[0.80094257]]\n",
            "I think books are like people, in the sense that they’ll turn up in your life when you most need them [[0.58162089]]\n"
          ]
        }
      ],
      "source": [
        "for t, e in zip(sentences, embeddings):\n",
        "    distance = euclidean_distances([e], [reference_embedding])\n",
        "    print(t, distance)"
      ]
    },
    {
      "cell_type": "code",
      "execution_count": 8,
      "id": "2d610ebd-e0a0-4435-ab1d-07216b214b89",
      "metadata": {
        "id": "2d610ebd-e0a0-4435-ab1d-07216b214b89"
      },
      "outputs": [],
      "source": [
        "sentences = [\n",
        "    'Have a safe happy Memorial Day weekend everyone',\n",
        "    'To all our friends at Whatsit Productions Films enjoy a safe happy Memorial Day weekend',\n",
        "    'Where can I find the best cheese?'\n",
        "]"
      ]
    },
    {
      "cell_type": "code",
      "execution_count": 9,
      "id": "5938ef92-a83d-4ca1-a32c-5ecd32ba9ae8",
      "metadata": {
        "id": "5938ef92-a83d-4ca1-a32c-5ecd32ba9ae8"
      },
      "outputs": [],
      "source": [
        "sentence_embeddings = [get_text_embedding(t) for t in sentences]"
      ]
    },
    {
      "cell_type": "code",
      "execution_count": 10,
      "id": "6f5449e4-ee20-4bcc-aa79-a44f084f6b97",
      "metadata": {
        "id": "6f5449e4-ee20-4bcc-aa79-a44f084f6b97"
      },
      "outputs": [],
      "source": [
        "import itertools\n",
        "\n",
        "sentence_embeddings_pairs = list(itertools.combinations(sentence_embeddings, 2))\n",
        "sentence_pairs = list(itertools.combinations(sentences, 2))"
      ]
    },
    {
      "cell_type": "code",
      "execution_count": 11,
      "id": "ae95833b-3013-4275-af57-71604627482b",
      "metadata": {
        "id": "ae95833b-3013-4275-af57-71604627482b",
        "outputId": "556a3851-597e-46a6-938e-2b1f06d366ba",
        "colab": {
          "base_uri": "https://localhost:8080/"
        }
      },
      "outputs": [
        {
          "output_type": "stream",
          "name": "stdout",
          "text": [
            "('Have a safe happy Memorial Day weekend everyone', 'To all our friends at Whatsit Productions Films enjoy a safe happy Memorial Day weekend') [[0.54326686]]\n",
            "('Have a safe happy Memorial Day weekend everyone', 'Where can I find the best cheese?') [[0.92573978]]\n",
            "('To all our friends at Whatsit Productions Films enjoy a safe happy Memorial Day weekend', 'Where can I find the best cheese?') [[0.9114184]]\n"
          ]
        }
      ],
      "source": [
        "for s, e in zip(sentence_pairs, sentence_embeddings_pairs):\n",
        "    print(s, euclidean_distances([e[0]], [e[1]]))"
      ]
    },
    {
      "cell_type": "markdown",
      "source": [
        "HERE I HAVE USED ANOTHER DATASET FROM KAGGLE (REPRESENTING DIFFERENT DIFFERENT EMOTION) RATHER THAN PROVIDED IN THE DOCUMENTATION CODE..\n"
      ],
      "metadata": {
        "id": "3JF0KmBMQAKq"
      },
      "id": "3JF0KmBMQAKq"
    },
    {
      "cell_type": "code",
      "execution_count": 26,
      "id": "3fa58906-41b1-4b50-96ca-8457175de37a",
      "metadata": {
        "id": "3fa58906-41b1-4b50-96ca-8457175de37a"
      },
      "outputs": [],
      "source": [
        "import pandas as pd\n",
        "\n",
        "df = pd.read_csv(\"/content/emotions.csv\", index_col=0)\n",
        "label_mapping = {\n",
        "    0: 'sadness',\n",
        "    1: 'joy',\n",
        "    2: 'love',\n",
        "    3: 'anger',\n",
        "    4: 'fear',\n",
        "    5: 'surprise'\n",
        "}\n",
        "\n",
        "df['label'] = df['label'].map(label_mapping)\n"
      ]
    },
    {
      "cell_type": "code",
      "execution_count": 27,
      "id": "e0c7821a-da97-4baa-afa5-aa023a5298b4",
      "metadata": {
        "id": "e0c7821a-da97-4baa-afa5-aa023a5298b4"
      },
      "outputs": [],
      "source": [
        "def get_embeddings_by_chunks(data, chunk_size):\n",
        "    chunks = [data[x:x+chunk_size] for x in range(0, len(data), chunk_size)]\n",
        "    embeddings_response = [client.embeddings(model=\"mistral-embed\", input=c) for c in chunks]\n",
        "    embeddings = []\n",
        "    for i in range(len(embeddings_response)):\n",
        "        for d in embeddings_response[i].data:\n",
        "            embeddings.append(d.embedding)\n",
        "    return embeddings"
      ]
    },
    {
      "cell_type": "code",
      "execution_count": 28,
      "id": "b0282432-3656-4eb5-9e6a-2d1358187b33",
      "metadata": {
        "id": "b0282432-3656-4eb5-9e6a-2d1358187b33"
      },
      "outputs": [],
      "source": [
        "df['embeddings'] = get_embeddings_by_chunks(df['text'].tolist(), 50)"
      ]
    },
    {
      "cell_type": "markdown",
      "source": [
        "SENTIMENTAL ANALYSIS EMBEDDINGS"
      ],
      "metadata": {
        "id": "VcPuUVx1Tnw7"
      },
      "id": "VcPuUVx1Tnw7"
    },
    {
      "cell_type": "code",
      "execution_count": 29,
      "id": "7d714a9e-783c-4385-95ee-5f2f3fbeb7fe",
      "metadata": {
        "id": "7d714a9e-783c-4385-95ee-5f2f3fbeb7fe",
        "outputId": "4223841b-8882-40de-d9fb-d64953ce538c",
        "colab": {
          "base_uri": "https://localhost:8080/",
          "height": 206
        }
      },
      "outputs": [
        {
          "output_type": "execute_result",
          "data": {
            "text/plain": [
              "                                                text    label  \\\n",
              "0      i just feel really helpless and heavy hearted     fear   \n",
              "1  ive enjoyed being able to slouch about relax a...  sadness   \n",
              "2  i gave up my internship with the dmrg and am f...     fear   \n",
              "3                         i dont know i feel so lost  sadness   \n",
              "4  i am a kindergarten teacher and i am thoroughl...     fear   \n",
              "\n",
              "                                          embeddings  \n",
              "0  [-0.041229248046875, 0.0413818359375, 0.004287...  \n",
              "1  [-0.040618896484375, 0.07244873046875, 0.04153...  \n",
              "2  [-0.0491943359375, 0.06494140625, -0.001711845...  \n",
              "3  [-0.0303802490234375, 0.02874755859375, 0.0266...  \n",
              "4  [-0.03302001953125, 0.040496826171875, 0.02279...  "
            ],
            "text/html": [
              "\n",
              "  <div id=\"df-ed4861fd-6e3e-4aec-988e-0e2997116e3d\" class=\"colab-df-container\">\n",
              "    <div>\n",
              "<style scoped>\n",
              "    .dataframe tbody tr th:only-of-type {\n",
              "        vertical-align: middle;\n",
              "    }\n",
              "\n",
              "    .dataframe tbody tr th {\n",
              "        vertical-align: top;\n",
              "    }\n",
              "\n",
              "    .dataframe thead th {\n",
              "        text-align: right;\n",
              "    }\n",
              "</style>\n",
              "<table border=\"1\" class=\"dataframe\">\n",
              "  <thead>\n",
              "    <tr style=\"text-align: right;\">\n",
              "      <th></th>\n",
              "      <th>text</th>\n",
              "      <th>label</th>\n",
              "      <th>embeddings</th>\n",
              "    </tr>\n",
              "  </thead>\n",
              "  <tbody>\n",
              "    <tr>\n",
              "      <th>0</th>\n",
              "      <td>i just feel really helpless and heavy hearted</td>\n",
              "      <td>fear</td>\n",
              "      <td>[-0.041229248046875, 0.0413818359375, 0.004287...</td>\n",
              "    </tr>\n",
              "    <tr>\n",
              "      <th>1</th>\n",
              "      <td>ive enjoyed being able to slouch about relax a...</td>\n",
              "      <td>sadness</td>\n",
              "      <td>[-0.040618896484375, 0.07244873046875, 0.04153...</td>\n",
              "    </tr>\n",
              "    <tr>\n",
              "      <th>2</th>\n",
              "      <td>i gave up my internship with the dmrg and am f...</td>\n",
              "      <td>fear</td>\n",
              "      <td>[-0.0491943359375, 0.06494140625, -0.001711845...</td>\n",
              "    </tr>\n",
              "    <tr>\n",
              "      <th>3</th>\n",
              "      <td>i dont know i feel so lost</td>\n",
              "      <td>sadness</td>\n",
              "      <td>[-0.0303802490234375, 0.02874755859375, 0.0266...</td>\n",
              "    </tr>\n",
              "    <tr>\n",
              "      <th>4</th>\n",
              "      <td>i am a kindergarten teacher and i am thoroughl...</td>\n",
              "      <td>fear</td>\n",
              "      <td>[-0.03302001953125, 0.040496826171875, 0.02279...</td>\n",
              "    </tr>\n",
              "  </tbody>\n",
              "</table>\n",
              "</div>\n",
              "    <div class=\"colab-df-buttons\">\n",
              "\n",
              "  <div class=\"colab-df-container\">\n",
              "    <button class=\"colab-df-convert\" onclick=\"convertToInteractive('df-ed4861fd-6e3e-4aec-988e-0e2997116e3d')\"\n",
              "            title=\"Convert this dataframe to an interactive table.\"\n",
              "            style=\"display:none;\">\n",
              "\n",
              "  <svg xmlns=\"http://www.w3.org/2000/svg\" height=\"24px\" viewBox=\"0 -960 960 960\">\n",
              "    <path d=\"M120-120v-720h720v720H120Zm60-500h600v-160H180v160Zm220 220h160v-160H400v160Zm0 220h160v-160H400v160ZM180-400h160v-160H180v160Zm440 0h160v-160H620v160ZM180-180h160v-160H180v160Zm440 0h160v-160H620v160Z\"/>\n",
              "  </svg>\n",
              "    </button>\n",
              "\n",
              "  <style>\n",
              "    .colab-df-container {\n",
              "      display:flex;\n",
              "      gap: 12px;\n",
              "    }\n",
              "\n",
              "    .colab-df-convert {\n",
              "      background-color: #E8F0FE;\n",
              "      border: none;\n",
              "      border-radius: 50%;\n",
              "      cursor: pointer;\n",
              "      display: none;\n",
              "      fill: #1967D2;\n",
              "      height: 32px;\n",
              "      padding: 0 0 0 0;\n",
              "      width: 32px;\n",
              "    }\n",
              "\n",
              "    .colab-df-convert:hover {\n",
              "      background-color: #E2EBFA;\n",
              "      box-shadow: 0px 1px 2px rgba(60, 64, 67, 0.3), 0px 1px 3px 1px rgba(60, 64, 67, 0.15);\n",
              "      fill: #174EA6;\n",
              "    }\n",
              "\n",
              "    .colab-df-buttons div {\n",
              "      margin-bottom: 4px;\n",
              "    }\n",
              "\n",
              "    [theme=dark] .colab-df-convert {\n",
              "      background-color: #3B4455;\n",
              "      fill: #D2E3FC;\n",
              "    }\n",
              "\n",
              "    [theme=dark] .colab-df-convert:hover {\n",
              "      background-color: #434B5C;\n",
              "      box-shadow: 0px 1px 3px 1px rgba(0, 0, 0, 0.15);\n",
              "      filter: drop-shadow(0px 1px 2px rgba(0, 0, 0, 0.3));\n",
              "      fill: #FFFFFF;\n",
              "    }\n",
              "  </style>\n",
              "\n",
              "    <script>\n",
              "      const buttonEl =\n",
              "        document.querySelector('#df-ed4861fd-6e3e-4aec-988e-0e2997116e3d button.colab-df-convert');\n",
              "      buttonEl.style.display =\n",
              "        google.colab.kernel.accessAllowed ? 'block' : 'none';\n",
              "\n",
              "      async function convertToInteractive(key) {\n",
              "        const element = document.querySelector('#df-ed4861fd-6e3e-4aec-988e-0e2997116e3d');\n",
              "        const dataTable =\n",
              "          await google.colab.kernel.invokeFunction('convertToInteractive',\n",
              "                                                    [key], {});\n",
              "        if (!dataTable) return;\n",
              "\n",
              "        const docLinkHtml = 'Like what you see? Visit the ' +\n",
              "          '<a target=\"_blank\" href=https://colab.research.google.com/notebooks/data_table.ipynb>data table notebook</a>'\n",
              "          + ' to learn more about interactive tables.';\n",
              "        element.innerHTML = '';\n",
              "        dataTable['output_type'] = 'display_data';\n",
              "        await google.colab.output.renderOutput(dataTable, element);\n",
              "        const docLink = document.createElement('div');\n",
              "        docLink.innerHTML = docLinkHtml;\n",
              "        element.appendChild(docLink);\n",
              "      }\n",
              "    </script>\n",
              "  </div>\n",
              "\n",
              "\n",
              "<div id=\"df-abf3f9f0-c048-4022-9b7e-6b6424b7ecc8\">\n",
              "  <button class=\"colab-df-quickchart\" onclick=\"quickchart('df-abf3f9f0-c048-4022-9b7e-6b6424b7ecc8')\"\n",
              "            title=\"Suggest charts\"\n",
              "            style=\"display:none;\">\n",
              "\n",
              "<svg xmlns=\"http://www.w3.org/2000/svg\" height=\"24px\"viewBox=\"0 0 24 24\"\n",
              "     width=\"24px\">\n",
              "    <g>\n",
              "        <path d=\"M19 3H5c-1.1 0-2 .9-2 2v14c0 1.1.9 2 2 2h14c1.1 0 2-.9 2-2V5c0-1.1-.9-2-2-2zM9 17H7v-7h2v7zm4 0h-2V7h2v10zm4 0h-2v-4h2v4z\"/>\n",
              "    </g>\n",
              "</svg>\n",
              "  </button>\n",
              "\n",
              "<style>\n",
              "  .colab-df-quickchart {\n",
              "      --bg-color: #E8F0FE;\n",
              "      --fill-color: #1967D2;\n",
              "      --hover-bg-color: #E2EBFA;\n",
              "      --hover-fill-color: #174EA6;\n",
              "      --disabled-fill-color: #AAA;\n",
              "      --disabled-bg-color: #DDD;\n",
              "  }\n",
              "\n",
              "  [theme=dark] .colab-df-quickchart {\n",
              "      --bg-color: #3B4455;\n",
              "      --fill-color: #D2E3FC;\n",
              "      --hover-bg-color: #434B5C;\n",
              "      --hover-fill-color: #FFFFFF;\n",
              "      --disabled-bg-color: #3B4455;\n",
              "      --disabled-fill-color: #666;\n",
              "  }\n",
              "\n",
              "  .colab-df-quickchart {\n",
              "    background-color: var(--bg-color);\n",
              "    border: none;\n",
              "    border-radius: 50%;\n",
              "    cursor: pointer;\n",
              "    display: none;\n",
              "    fill: var(--fill-color);\n",
              "    height: 32px;\n",
              "    padding: 0;\n",
              "    width: 32px;\n",
              "  }\n",
              "\n",
              "  .colab-df-quickchart:hover {\n",
              "    background-color: var(--hover-bg-color);\n",
              "    box-shadow: 0 1px 2px rgba(60, 64, 67, 0.3), 0 1px 3px 1px rgba(60, 64, 67, 0.15);\n",
              "    fill: var(--button-hover-fill-color);\n",
              "  }\n",
              "\n",
              "  .colab-df-quickchart-complete:disabled,\n",
              "  .colab-df-quickchart-complete:disabled:hover {\n",
              "    background-color: var(--disabled-bg-color);\n",
              "    fill: var(--disabled-fill-color);\n",
              "    box-shadow: none;\n",
              "  }\n",
              "\n",
              "  .colab-df-spinner {\n",
              "    border: 2px solid var(--fill-color);\n",
              "    border-color: transparent;\n",
              "    border-bottom-color: var(--fill-color);\n",
              "    animation:\n",
              "      spin 1s steps(1) infinite;\n",
              "  }\n",
              "\n",
              "  @keyframes spin {\n",
              "    0% {\n",
              "      border-color: transparent;\n",
              "      border-bottom-color: var(--fill-color);\n",
              "      border-left-color: var(--fill-color);\n",
              "    }\n",
              "    20% {\n",
              "      border-color: transparent;\n",
              "      border-left-color: var(--fill-color);\n",
              "      border-top-color: var(--fill-color);\n",
              "    }\n",
              "    30% {\n",
              "      border-color: transparent;\n",
              "      border-left-color: var(--fill-color);\n",
              "      border-top-color: var(--fill-color);\n",
              "      border-right-color: var(--fill-color);\n",
              "    }\n",
              "    40% {\n",
              "      border-color: transparent;\n",
              "      border-right-color: var(--fill-color);\n",
              "      border-top-color: var(--fill-color);\n",
              "    }\n",
              "    60% {\n",
              "      border-color: transparent;\n",
              "      border-right-color: var(--fill-color);\n",
              "    }\n",
              "    80% {\n",
              "      border-color: transparent;\n",
              "      border-right-color: var(--fill-color);\n",
              "      border-bottom-color: var(--fill-color);\n",
              "    }\n",
              "    90% {\n",
              "      border-color: transparent;\n",
              "      border-bottom-color: var(--fill-color);\n",
              "    }\n",
              "  }\n",
              "</style>\n",
              "\n",
              "  <script>\n",
              "    async function quickchart(key) {\n",
              "      const quickchartButtonEl =\n",
              "        document.querySelector('#' + key + ' button');\n",
              "      quickchartButtonEl.disabled = true;  // To prevent multiple clicks.\n",
              "      quickchartButtonEl.classList.add('colab-df-spinner');\n",
              "      try {\n",
              "        const charts = await google.colab.kernel.invokeFunction(\n",
              "            'suggestCharts', [key], {});\n",
              "      } catch (error) {\n",
              "        console.error('Error during call to suggestCharts:', error);\n",
              "      }\n",
              "      quickchartButtonEl.classList.remove('colab-df-spinner');\n",
              "      quickchartButtonEl.classList.add('colab-df-quickchart-complete');\n",
              "    }\n",
              "    (() => {\n",
              "      let quickchartButtonEl =\n",
              "        document.querySelector('#df-abf3f9f0-c048-4022-9b7e-6b6424b7ecc8 button');\n",
              "      quickchartButtonEl.style.display =\n",
              "        google.colab.kernel.accessAllowed ? 'block' : 'none';\n",
              "    })();\n",
              "  </script>\n",
              "</div>\n",
              "\n",
              "    </div>\n",
              "  </div>\n"
            ],
            "application/vnd.google.colaboratory.intrinsic+json": {
              "type": "dataframe",
              "variable_name": "df",
              "summary": "{\n  \"name\": \"df\",\n  \"rows\": 502,\n  \"fields\": [\n    {\n      \"column\": \"text\",\n      \"properties\": {\n        \"dtype\": \"string\",\n        \"num_unique_values\": 502,\n        \"samples\": [\n          \"i have created and shared on this blog feel free to share it with others but please give credit and a link back to me and do not take credit for something that is not your creation\",\n          \"ill write here from time to time when im feeling especially inspired but for the most part im done\",\n          \"i feel lost and stressed out a little but i wil\"\n        ],\n        \"semantic_type\": \"\",\n        \"description\": \"\"\n      }\n    },\n    {\n      \"column\": \"label\",\n      \"properties\": {\n        \"dtype\": \"category\",\n        \"num_unique_values\": 6,\n        \"samples\": [\n          \"fear\",\n          \"sadness\",\n          \"anger\"\n        ],\n        \"semantic_type\": \"\",\n        \"description\": \"\"\n      }\n    },\n    {\n      \"column\": \"embeddings\",\n      \"properties\": {\n        \"dtype\": \"object\",\n        \"semantic_type\": \"\",\n        \"description\": \"\"\n      }\n    }\n  ]\n}"
            }
          },
          "metadata": {},
          "execution_count": 29
        }
      ],
      "source": [
        "df.head()"
      ]
    },
    {
      "cell_type": "code",
      "execution_count": 30,
      "id": "e2badca7-ec02-421e-99a8-2bc44fdd42af",
      "metadata": {
        "id": "e2badca7-ec02-421e-99a8-2bc44fdd42af",
        "outputId": "9a595a1c-b37f-4d73-b4b1-24106d4d07b7",
        "colab": {
          "base_uri": "https://localhost:8080/",
          "height": 430
        }
      },
      "outputs": [
        {
          "output_type": "display_data",
          "data": {
            "text/plain": [
              "<Figure size 640x480 with 1 Axes>"
            ],
            "image/png": "[encoded data removed]"
          },
          "metadata": {}
        }
      ],
      "source": [
        "import seaborn as sns\n",
        "from sklearn.manifold import TSNE\n",
        "import numpy as np\n",
        "\n",
        "\n",
        "tsne = TSNE(n_components=2, random_state=0).fit_transform(np.array(df['embeddings'].to_list()))\n",
        "ax = sns.scatterplot(x=tsne[:, 0], y=tsne[:, 1], hue=np.array(df['label'].to_list()))\n",
        "sns.move_legend(ax, 'upper left', bbox_to_anchor=(1, 1))\n"
      ]
    },
    {
      "cell_type": "code",
      "execution_count": 66,
      "id": "261e6e78-341b-4b03-902d-3f27922f52d7",
      "metadata": {
        "lines_to_next_cell": 2,
        "id": "261e6e78-341b-4b03-902d-3f27922f52d7"
      },
      "outputs": [],
      "source": [
        "\n",
        "from sklearn.model_selection import train_test_split\n",
        "\n",
        "train_x, test_x, train_y, test_y = train_test_split(df['embeddings'], df[\"label\"],test_size=0.15)"
      ]
    },
    {
      "cell_type": "code",
      "execution_count": 67,
      "id": "baeff9a8-7be1-4fb9-9cb3-cb44a719076a",
      "metadata": {
        "id": "baeff9a8-7be1-4fb9-9cb3-cb44a719076a"
      },
      "outputs": [],
      "source": [
        "from sklearn.preprocessing import StandardScaler\n",
        "\n",
        "scaler = StandardScaler()\n",
        "train_x = scaler.fit_transform(train_x.to_list())\n",
        "test_x = scaler.transform(test_x.to_list())"
      ]
    },
    {
      "cell_type": "code",
      "execution_count": 68,
      "id": "dd8f8a80-6b7e-40a2-82e2-bd8c4be0ab67",
      "metadata": {
        "id": "dd8f8a80-6b7e-40a2-82e2-bd8c4be0ab67",
        "outputId": "3a205128-5747-4e3f-e9ce-293ad680739e",
        "colab": {
          "base_uri": "https://localhost:8080/"
        }
      },
      "outputs": [
        {
          "output_type": "stream",
          "name": "stdout",
          "text": [
            "Precision: 64.47%\n"
          ]
        }
      ],
      "source": [
        "\n",
        "from sklearn.linear_model import LogisticRegression\n",
        "\n",
        "clf = LogisticRegression(random_state=0, C=1.0, max_iter=500).fit(train_x, train_y.to_list())\n",
        "\n",
        "\n",
        "print(f\"Precision: {100*np.mean(clf.predict(test_x) == test_y.to_list()):.2f}%\")"
      ]
    },
    {
      "cell_type": "code",
      "execution_count": 69,
      "id": "263c015e-c32d-440c-a7d4-5d977d2d4a6e",
      "metadata": {
        "id": "263c015e-c32d-440c-a7d4-5d977d2d4a6e",
        "outputId": "9f24714e-fcd7-4058-f2d0-f24351f27dc4",
        "colab": {
          "base_uri": "https://localhost:8080/",
          "height": 36
        }
      },
      "outputs": [
        {
          "output_type": "execute_result",
          "data": {
            "text/plain": [
              "'joy'"
            ],
            "application/vnd.google.colaboratory.intrinsic+json": {
              "type": "string"
            }
          },
          "metadata": {},
          "execution_count": 69
        }
      ],
      "source": [
        "# classify a single example by myself- abhishek singh\n",
        "text = \"I am so happy\"\n",
        "clf.predict([get_text_embedding(text)]).item()"
      ]
    },
    {
      "cell_type": "code",
      "execution_count": 70,
      "id": "d053db2c-4a89-4f98-a1ed-36594b786ea8",
      "metadata": {
        "id": "d053db2c-4a89-4f98-a1ed-36594b786ea8",
        "colab": {
          "base_uri": "https://localhost:8080/"
        },
        "outputId": "9baaba41-9889-44ab-8889-a18d772b73eb"
      },
      "outputs": [
        {
          "output_type": "stream",
          "name": "stderr",
          "text": [
            "/usr/local/lib/python3.10/dist-packages/sklearn/cluster/_kmeans.py:870: FutureWarning: The default value of `n_init` will change from 10 to 'auto' in 1.4. Set the value of `n_init` explicitly to suppress the warning\n",
            "  warnings.warn(\n"
          ]
        }
      ],
      "source": [
        "from sklearn.cluster import KMeans\n",
        "model = KMeans(n_clusters=24, max_iter=1000)\n",
        "model.fit(df['embeddings'].to_list())\n",
        "df[\"cluster\"] = model.labels_"
      ]
    },
    {
      "cell_type": "code",
      "execution_count": 72,
      "id": "0169b960-faea-4da6-b509-08558d476118",
      "metadata": {
        "id": "0169b960-faea-4da6-b509-08558d476118",
        "outputId": "69d6454d-8afd-476e-d43d-093db4373543",
        "colab": {
          "base_uri": "https://localhost:8080/"
        }
      },
      "outputs": [
        {
          "output_type": "stream",
          "name": "stdout",
          "text": [
            "ive enjoyed being able to slouch about relax and unwind and frankly needed it after those last few weeks around the end of uni and the expo i have lately started to find myself feeling a bit listless which is never really a good thing\n",
            "i have officially graduated im not feeling as ecstatic as i thought i would\n",
            "i needed to show me that i really am integrating and making connections here since i had been feeling pretty homesick the week before\n"
          ]
        }
      ],
      "source": [
        "print(*df[df.cluster==2].text.head(3), sep='\\n')"
      ]
    }
  ],
  "metadata": {
    "jupytext": {
      "formats": "ipynb,py:light"
    },
    "kernelspec": {
      "display_name": "Python 3 (ipykernel)",
      "language": "python",
      "name": "python3"
    },
    "language_info": {
      "codemirror_mode": {
        "name": "ipython",
        "version": 3
      },
      "file_extension": ".py",
      "mimetype": "text/x-python",
      "name": "python",
      "nbconvert_exporter": "python",
      "pygments_lexer": "ipython3",
      "version": "3.10.13"
    },
    "colab": {
      "provenance": []
    }
  },
  "nbformat": 4,
  "nbformat_minor": 5
}