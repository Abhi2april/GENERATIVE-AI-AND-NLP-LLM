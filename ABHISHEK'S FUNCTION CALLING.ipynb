{
  "cells": [
    {
      "cell_type": "code",
      "execution_count": 1,
      "id": "1b6a555d-75d1-4241-bee3-a4ffaab4ecd2",
      "metadata": {
        "id": "1b6a555d-75d1-4241-bee3-a4ffaab4ecd2",
        "outputId": "b93e1cd6-b697-43a6-ac34-4ca70a60f765",
        "colab": {
          "base_uri": "https://localhost:8080/"
        }
      },
      "outputs": [
        {
          "output_type": "stream",
          "name": "stdout",
          "text": [
            "\u001b[2K     \u001b[90m━━━━━━━━━━━━━━━━━━━━━━━━━━━━━━━━━━━━━━━━\u001b[0m \u001b[32m75.6/75.6 kB\u001b[0m \u001b[31m2.3 MB/s\u001b[0m eta \u001b[36m0:00:00\u001b[0m\n",
            "\u001b[2K     \u001b[90m━━━━━━━━━━━━━━━━━━━━━━━━━━━━━━━━━━━━━━━━\u001b[0m \u001b[32m141.1/141.1 kB\u001b[0m \u001b[31m2.1 MB/s\u001b[0m eta \u001b[36m0:00:00\u001b[0m\n",
            "\u001b[2K     \u001b[90m━━━━━━━━━━━━━━━━━━━━━━━━━━━━━━━━━━━━━━━━\u001b[0m \u001b[32m77.9/77.9 kB\u001b[0m \u001b[31m5.4 MB/s\u001b[0m eta \u001b[36m0:00:00\u001b[0m\n",
            "\u001b[2K     \u001b[90m━━━━━━━━━━━━━━━━━━━━━━━━━━━━━━━━━━━━━━━━\u001b[0m \u001b[32m58.3/58.3 kB\u001b[0m \u001b[31m3.4 MB/s\u001b[0m eta \u001b[36m0:00:00\u001b[0m\n",
            "\u001b[?25h"
          ]
        }
      ],
      "source": [
        "!pip install pandas mistralai --quiet"
      ]
    },
    {
      "cell_type": "code",
      "execution_count": 2,
      "id": "8b4c0408-94a8-4c3f-b518-253b718f436e",
      "metadata": {
        "id": "8b4c0408-94a8-4c3f-b518-253b718f436e"
      },
      "outputs": [],
      "source": [
        "import pandas as pd\n",
        "\n",
        "data = {\n",
        "    'transaction_id': ['T1001', 'T1002', 'T1003', 'T1004', 'T1005'],\n",
        "    'customer_id': ['C001', 'C002', 'C003', 'C002', 'C001'],\n",
        "    'payment_amount': [125.50, 89.99, 120.00, 54.30, 210.20],\n",
        "    'payment_date': ['2021-10-05', '2021-10-06', '2021-10-07', '2021-10-05', '2021-10-08'],\n",
        "    'payment_status': ['Paid', 'Unpaid', 'Paid', 'Paid', 'Pending']\n",
        "}\n",
        "\n",
        "df = pd.DataFrame(data)"
      ]
    },
    {
      "cell_type": "code",
      "execution_count": 3,
      "id": "d9e153c1-6ff6-4878-a8c2-e02bac749210",
      "metadata": {
        "id": "d9e153c1-6ff6-4878-a8c2-e02bac749210"
      },
      "outputs": [],
      "source": [
        "def retrieve_payment_status(df: data, transaction_id: str) -> str:\n",
        "    if transaction_id in df.transaction_id.values:\n",
        "        return json.dumps({'status': df[df.transaction_id == transaction_id].payment_status.item()})\n",
        "    return json.dumps({'error': 'transaction id not found.'})\n",
        "\n",
        "def retrieve_payment_date(df: data, transaction_id: str) -> str:\n",
        "    if transaction_id in df.transaction_id.values:\n",
        "        return json.dumps({'date': df[df.transaction_id == transaction_id].payment_date.item()})\n",
        "    return json.dumps({'error': 'transaction id not found.'})"
      ]
    },
    {
      "cell_type": "code",
      "execution_count": 4,
      "id": "756006e4-ae7e-4023-89d5-7de970f2efe7",
      "metadata": {
        "id": "756006e4-ae7e-4023-89d5-7de970f2efe7"
      },
      "outputs": [],
      "source": [
        "tools = [\n",
        "    {\n",
        "        \"type\": \"function\",\n",
        "        \"function\": {\n",
        "            \"name\": \"retrieve_payment_status\",\n",
        "            \"description\": \"Get payment status of a transaction\",\n",
        "            \"parameters\": {\n",
        "                \"type\": \"object\",\n",
        "                \"properties\": {\n",
        "                    \"transaction_id\": {\n",
        "                        \"type\": \"string\",\n",
        "                        \"description\": \"The transaction id.\",\n",
        "                    }\n",
        "                },\n",
        "                \"required\": [\"transaction_id\"],\n",
        "            },\n",
        "        },\n",
        "    },\n",
        "    {\n",
        "        \"type\": \"function\",\n",
        "        \"function\": {\n",
        "            \"name\": \"retrieve_payment_date\",\n",
        "            \"description\": \"Get payment date of a transaction\",\n",
        "            \"parameters\": {\n",
        "                \"type\": \"object\",\n",
        "                \"properties\": {\n",
        "                    \"transaction_id\": {\n",
        "                        \"type\": \"string\",\n",
        "                        \"description\": \"The transaction id.\",\n",
        "                    }\n",
        "                },\n",
        "                \"required\": [\"transaction_id\"],\n",
        "            },\n",
        "        },\n",
        "    }\n",
        "]\n"
      ]
    },
    {
      "cell_type": "code",
      "execution_count": 5,
      "id": "88d3fda1-72bb-4ee3-a80f-340716a22a01",
      "metadata": {
        "id": "88d3fda1-72bb-4ee3-a80f-340716a22a01"
      },
      "outputs": [],
      "source": [
        "import functools\n",
        "\n",
        "names_to_functions = {\n",
        "  'retrieve_payment_status': functools.partial(retrieve_payment_status, df=df),\n",
        "  'retrieve_payment_date': functools.partial(retrieve_payment_date, df=df)\n",
        "}"
      ]
    },
    {
      "cell_type": "code",
      "execution_count": 15,
      "id": "6777e7a6-f7e2-42bd-a141-5afe8fbd3c74",
      "metadata": {
        "id": "6777e7a6-f7e2-42bd-a141-5afe8fbd3c74"
      },
      "outputs": [],
      "source": [
        "from mistralai.models.chat_completion import ChatMessage\n",
        "\n",
        "messages = [\n",
        "    ChatMessage(role=\"user\", content=\"What's the status of my transaction T1004?\"),\n",
        "    ChatMessage(role=\"user\", content=\"What's the date of my transaction T1005\")\n",
        "]\n"
      ]
    },
    {
      "cell_type": "code",
      "execution_count": 16,
      "id": "59493530-b310-447f-9f77-32d9013ffd30",
      "metadata": {
        "id": "59493530-b310-447f-9f77-32d9013ffd30",
        "outputId": "68e7c6f2-a81d-4d24-9b9b-577775009a00",
        "colab": {
          "base_uri": "https://localhost:8080/"
        }
      },
      "outputs": [
        {
          "output_type": "execute_result",
          "data": {
            "text/plain": [
              "ChatCompletionResponse(id='16b0fcd543f34bcdb8f7add1221ac74b', object='chat.completion', created=1721316104, model='mistral-small-latest', choices=[ChatCompletionResponseChoice(index=0, message=ChatMessage(role='assistant', content='', name=None, tool_calls=[ToolCall(id='SvN7F1vBV', type=<ToolType.function: 'function'>, function=FunctionCall(name='retrieve_payment_status', arguments='{\"transaction_id\": \"T1004\"}'))], tool_call_id=None), finish_reason=<FinishReason.tool_calls: 'tool_calls'>)], usage=UsageInfo(prompt_tokens=181, total_tokens=211, completion_tokens=30))"
            ]
          },
          "metadata": {},
          "execution_count": 16
        }
      ],
      "source": [
        "from mistralai.client import MistralClient\n",
        "\n",
        "model = \"mistral-small-latest\"\n",
        "api_key=\"rrXMIjg4zKH2qCYv7jRPVVgYYuMMbfnt\"\n",
        "\n",
        "client = MistralClient(api_key=api_key)\n",
        "\n",
        "response = client.chat(\n",
        "    model=model,\n",
        "    messages=messages,\n",
        "    tools=tools,\n",
        "    tool_choice=\"auto\"\n",
        ")\n",
        "\n",
        "response"
      ]
    },
    {
      "cell_type": "code",
      "execution_count": 17,
      "id": "a7af5b4d-2128-4833-bd94-b4d924495783",
      "metadata": {
        "id": "a7af5b4d-2128-4833-bd94-b4d924495783"
      },
      "outputs": [],
      "source": [
        "messages.append(response.choices[0].message)"
      ]
    },
    {
      "cell_type": "code",
      "execution_count": 18,
      "id": "4a31eeaa-6ef2-4af8-8fbf-e5648d12a263",
      "metadata": {
        "id": "4a31eeaa-6ef2-4af8-8fbf-e5648d12a263",
        "outputId": "5a72fbad-0da5-4961-ecc9-ac61ec265769",
        "colab": {
          "base_uri": "https://localhost:8080/"
        }
      },
      "outputs": [
        {
          "output_type": "execute_result",
          "data": {
            "text/plain": [
              "[ChatMessage(role='user', content=\"What's the status of my transaction T1004?\", name=None, tool_calls=None, tool_call_id=None),\n",
              " ChatMessage(role='user', content=\"What's the date of my transaction T1005\", name=None, tool_calls=None, tool_call_id=None),\n",
              " ChatMessage(role='assistant', content='', name=None, tool_calls=[ToolCall(id='SvN7F1vBV', type=<ToolType.function: 'function'>, function=FunctionCall(name='retrieve_payment_status', arguments='{\"transaction_id\": \"T1004\"}'))], tool_call_id=None)]"
            ]
          },
          "metadata": {},
          "execution_count": 18
        }
      ],
      "source": [
        "messages"
      ]
    },
    {
      "cell_type": "code",
      "execution_count": 19,
      "id": "db259833-75b0-4538-a78e-8a1566326ec9",
      "metadata": {
        "id": "db259833-75b0-4538-a78e-8a1566326ec9",
        "outputId": "a32256b1-f21b-4b91-c46f-c58a13cfb19f",
        "colab": {
          "base_uri": "https://localhost:8080/"
        }
      },
      "outputs": [
        {
          "output_type": "stream",
          "name": "stdout",
          "text": [
            "\n",
            "function_name:  retrieve_payment_status \n",
            "function_params:  {'transaction_id': 'T1004'}\n"
          ]
        }
      ],
      "source": [
        "import json\n",
        "tool_call = response.choices[0].message.tool_calls[0]\n",
        "function_name = tool_call.function.name\n",
        "function_params = json.loads(tool_call.function.arguments)\n",
        "print(\"\\nfunction_name: \", function_name, \"\\nfunction_params: \", function_params)"
      ]
    },
    {
      "cell_type": "code",
      "execution_count": 20,
      "id": "5eae109b-41c3-463d-98da-0e5499ea8a37",
      "metadata": {
        "id": "5eae109b-41c3-463d-98da-0e5499ea8a37",
        "outputId": "97e6a53f-13df-4ee6-8c21-8d798b854228",
        "colab": {
          "base_uri": "https://localhost:8080/",
          "height": 36
        }
      },
      "outputs": [
        {
          "output_type": "execute_result",
          "data": {
            "text/plain": [
              "'{\"status\": \"Paid\"}'"
            ],
            "application/vnd.google.colaboratory.intrinsic+json": {
              "type": "string"
            }
          },
          "metadata": {},
          "execution_count": 20
        }
      ],
      "source": [
        "function_result = names_to_functions[function_name](**function_params)\n",
        "function_result\n"
      ]
    },
    {
      "cell_type": "code",
      "execution_count": 21,
      "id": "81a14939-b6a9-45ba-92cb-b190969f6889",
      "metadata": {
        "id": "81a14939-b6a9-45ba-92cb-b190969f6889"
      },
      "outputs": [],
      "source": [
        "messages.append(ChatMessage(role=\"tool\", name=function_name, content=function_result, tool_call_id=tool_call.id))"
      ]
    },
    {
      "cell_type": "code",
      "execution_count": 22,
      "id": "fafc8f24-f1a8-4d8a-ad7f-8465da97939f",
      "metadata": {
        "id": "fafc8f24-f1a8-4d8a-ad7f-8465da97939f",
        "outputId": "1c68bd6a-3871-4616-bcd3-9391c6a3a06f",
        "colab": {
          "base_uri": "https://localhost:8080/"
        }
      },
      "outputs": [
        {
          "output_type": "execute_result",
          "data": {
            "text/plain": [
              "[ChatMessage(role='user', content=\"What's the status of my transaction T1004?\", name=None, tool_calls=None, tool_call_id=None),\n",
              " ChatMessage(role='user', content=\"What's the date of my transaction T1005\", name=None, tool_calls=None, tool_call_id=None),\n",
              " ChatMessage(role='assistant', content='', name=None, tool_calls=[ToolCall(id='SvN7F1vBV', type=<ToolType.function: 'function'>, function=FunctionCall(name='retrieve_payment_status', arguments='{\"transaction_id\": \"T1004\"}'))], tool_call_id=None),\n",
              " ChatMessage(role='tool', content='{\"status\": \"Paid\"}', name='retrieve_payment_status', tool_calls=None, tool_call_id='SvN7F1vBV')]"
            ]
          },
          "metadata": {},
          "execution_count": 22
        }
      ],
      "source": [
        "messages"
      ]
    },
    {
      "cell_type": "code",
      "execution_count": 23,
      "id": "36e1cbb5-96bf-49b6-bada-ff6338d67d86",
      "metadata": {
        "id": "36e1cbb5-96bf-49b6-bada-ff6338d67d86",
        "outputId": "c9603176-f683-4034-d1a0-78c0b38f7570",
        "colab": {
          "base_uri": "https://localhost:8080/",
          "height": 36
        }
      },
      "outputs": [
        {
          "output_type": "execute_result",
          "data": {
            "text/plain": [
              "'Your transaction T1004 has been paid.\\n\\n[{\"name\": \"retrieve_transaction_date\", \"arguments\": {\"transaction_id\": \"T1005\"}, \"id\": \"881Yj4X4n\"}]'"
            ],
            "application/vnd.google.colaboratory.intrinsic+json": {
              "type": "string"
            }
          },
          "metadata": {},
          "execution_count": 23
        }
      ],
      "source": [
        "response = client.chat(\n",
        "    model=model,\n",
        "    messages=messages\n",
        ")\n",
        "\n",
        "response.choices[0].message.content"
      ]
    }
  ],
  "metadata": {
    "kernelspec": {
      "display_name": "Python 3 (ipykernel)",
      "language": "python",
      "name": "python3"
    },
    "language_info": {
      "codemirror_mode": {
        "name": "ipython",
        "version": 3
      },
      "file_extension": ".py",
      "mimetype": "text/x-python",
      "name": "python",
      "nbconvert_exporter": "python",
      "pygments_lexer": "ipython3",
      "version": "3.10.0"
    },
    "colab": {
      "provenance": []
    }
  },
  "nbformat": 4,
  "nbformat_minor": 5
}